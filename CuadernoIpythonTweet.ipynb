{
 "cells": [
  {
   "cell_type": "markdown",
   "metadata": {},
   "source": [
    "importaciones"
   ]
  },
  {
   "cell_type": "markdown",
   "metadata": {},
   "source": [
    "definiciones de funciones"
   ]
  },
  {
   "cell_type": "code",
   "execution_count": 1,
   "metadata": {
    "collapsed": true
   },
   "outputs": [],
   "source": [
    "def etiquetados(lista, clase):\n",
    "    \"\"\" etiqueta cada elemento de la lista con una clase determinada \"\"\"\n",
    "    for tweet in lista:\n",
    "        yield (tweet.strip(), clase)"
   ]
  },
  {
   "cell_type": "code",
   "execution_count": 2,
   "metadata": {
    "collapsed": true
   },
   "outputs": [],
   "source": [
    "def ngramas(iterable, n=3):\n",
    "    \"\"\"parte el iterable en secuencias de n elementos\"\"\"\n",
    "    i = 0\n",
    "    while i <= (len(iterable) - n):\n",
    "        yield iterable[i: i + n]\n",
    "        i += 1"
   ]
  },
  {
   "cell_type": "markdown",
   "metadata": {},
   "source": [
    "###programa"
   ]
  },
  {
   "cell_type": "markdown",
   "metadata": {},
   "source": [
    "se generan las listas que contienen el tweet y la clase a la que pertenecen. Cada item de la lista es el par (tweet, clase)."
   ]
  },
  {
   "cell_type": "code",
   "execution_count": 5,
   "metadata": {
    "collapsed": true
   },
   "outputs": [],
   "source": [
    "with open(\"positivos.txt\") as pos:\n",
    "    tweets = [tweet for tweet in etiquetados(pos, \"positivo\")]"
   ]
  },
  {
   "cell_type": "code",
   "execution_count": 6,
   "metadata": {
    "collapsed": true
   },
   "outputs": [],
   "source": [
    "with open(\"negativos.txt\") as pos:\n",
    "    tweets += [tweet for tweet in etiquetados(pos, \"negativo\")]"
   ]
  },
  {
   "cell_type": "code",
   "execution_count": 11,
   "metadata": {
    "collapsed": false
   },
   "outputs": [],
   "source": [
    "for i in range(len(tweets)):\n",
    "    tweets[i] = ([ngram.lower() for ngram in ngramas(tweets[i][0])], tweets[i][1])"
   ]
  },
  {
   "cell_type": "code",
   "execution_count": null,
   "metadata": {
    "collapsed": true
   },
   "outputs": [],
   "source": [
    "word_features = []\n",
    "for ngram, clas in tweets:\n",
    "    word_features.extend(ngram)\n",
    "\n",
    "word_features = list(set(word_features))"
   ]
  }
 ],
 "metadata": {
  "kernelspec": {
   "display_name": "Python 3",
   "language": "python",
   "name": "python3"
  },
  "language_info": {
   "codemirror_mode": {
    "name": "ipython",
    "version": 3
   },
   "file_extension": ".py",
   "mimetype": "text/x-python",
   "name": "python",
   "nbconvert_exporter": "python",
   "pygments_lexer": "ipython3",
   "version": "3.4.3"
  }
 },
 "nbformat": 4,
 "nbformat_minor": 0
}
